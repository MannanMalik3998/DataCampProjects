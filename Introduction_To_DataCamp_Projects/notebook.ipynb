{
  "nbformat": 4,
  "nbformat_minor": 0,
  "metadata": {
    "kernelspec": {
      "display_name": "Python 3",
      "language": "python",
      "name": "python3"
    },
    "language_info": {
      "mimetype": "text/x-python",
      "nbconvert_exporter": "python",
      "version": "3.5.2",
      "pygments_lexer": "ipython3",
      "codemirror_mode": {
        "version": 3,
        "name": "ipython"
      },
      "file_extension": ".py",
      "name": "python"
    },
    "colab": {
      "name": "Introduction To DataCamp Projects.ipynb",
      "provenance": []
    }
  },
  "cells": [
    {
      "cell_type": "code",
      "metadata": {
        "trusted": true,
        "dc": {
          "key": "b5ed313abb"
        },
        "tags": [
          "sample_code"
        ],
        "id": "3QLaJA4B1LUB",
        "colab_type": "code",
        "colab": {},
        "outputId": "e8749d4e-16d0-43fe-d0ca-248b34453440"
      },
      "source": [
        "def greet(first_name, last_name):\n",
        "    greeting = 'My name is ' + last_name + ', ' + first_name + ' ' + last_name + '!'\n",
        "    return greeting\n",
        "\n",
        "# Replace with your first and last name.\n",
        "# That is, unless your name is already James Bond.\n",
        "greet('Abdul', 'Mannan')"
      ],
      "execution_count": 0,
      "outputs": [
        {
          "output_type": "execute_result",
          "data": {
            "text/plain": [
              "'My name is Mannan, Abdul Mannan!'"
            ]
          },
          "metadata": {
            "tags": []
          },
          "execution_count": 3
        }
      ]
    },
    {
      "cell_type": "markdown",
      "metadata": {
        "editable": false,
        "deletable": false,
        "dc": {
          "key": "d71cd3b937"
        },
        "run_control": {
          "frozen": true
        },
        "tags": [
          "context"
        ],
        "id": "K0UvBGmB1LUE",
        "colab_type": "text"
      },
      "source": [
        "## Jupyter notebooks ♡ data\n",
        "<p>We've seen that notebooks can display basic objects such as numbers and strings. But notebooks also support the objects used in data science, which makes them great for interactive data analysis!</p>\n",
        "<p>For example, below we create a <code>pandas</code> DataFrame by reading in a <code>csv</code>-file with the average global temperature for the years 1850 to 2016. If we look at the <code>head</code> of this DataFrame the notebook will render it as a nice-looking table.</p>"
      ]
    },
    {
      "cell_type": "code",
      "metadata": {
        "trusted": true,
        "dc": {
          "key": "d71cd3b937"
        },
        "tags": [
          "sample_code"
        ],
        "id": "Bd3QRCXE1LUF",
        "colab_type": "code",
        "colab": {},
        "outputId": "a8eff2f4-eb98-47c3-880d-b72e3f5cc79b"
      },
      "source": [
        "# Importing the pandas module\n",
        "import pandas as pd\n",
        "\n",
        "# Reading in the global temperature data\n",
        "global_temp = pd.read_csv('datasets/global_temperature.csv')\n",
        "\n",
        "# Take a look at the first datapoints\n",
        "# ... YOUR CODE FOR TASK 3 ...\n",
        "global_temp.head()"
      ],
      "execution_count": 0,
      "outputs": [
        {
          "output_type": "execute_result",
          "data": {
            "text/html": [
              "<div>\n",
              "<style>\n",
              "    .dataframe thead tr:only-child th {\n",
              "        text-align: right;\n",
              "    }\n",
              "\n",
              "    .dataframe thead th {\n",
              "        text-align: left;\n",
              "    }\n",
              "\n",
              "    .dataframe tbody tr th {\n",
              "        vertical-align: top;\n",
              "    }\n",
              "</style>\n",
              "<table border=\"1\" class=\"dataframe\">\n",
              "  <thead>\n",
              "    <tr style=\"text-align: right;\">\n",
              "      <th></th>\n",
              "      <th>year</th>\n",
              "      <th>degrees_celsius</th>\n",
              "    </tr>\n",
              "  </thead>\n",
              "  <tbody>\n",
              "    <tr>\n",
              "      <th>0</th>\n",
              "      <td>1850</td>\n",
              "      <td>7.74</td>\n",
              "    </tr>\n",
              "    <tr>\n",
              "      <th>1</th>\n",
              "      <td>1851</td>\n",
              "      <td>8.09</td>\n",
              "    </tr>\n",
              "    <tr>\n",
              "      <th>2</th>\n",
              "      <td>1852</td>\n",
              "      <td>7.97</td>\n",
              "    </tr>\n",
              "    <tr>\n",
              "      <th>3</th>\n",
              "      <td>1853</td>\n",
              "      <td>7.93</td>\n",
              "    </tr>\n",
              "    <tr>\n",
              "      <th>4</th>\n",
              "      <td>1854</td>\n",
              "      <td>8.19</td>\n",
              "    </tr>\n",
              "  </tbody>\n",
              "</table>\n",
              "</div>"
            ],
            "text/plain": [
              "   year  degrees_celsius\n",
              "0  1850             7.74\n",
              "1  1851             8.09\n",
              "2  1852             7.97\n",
              "3  1853             7.93\n",
              "4  1854             8.19"
            ]
          },
          "metadata": {
            "tags": []
          },
          "execution_count": 4
        }
      ]
    },
    {
      "cell_type": "markdown",
      "metadata": {
        "editable": false,
        "deletable": false,
        "dc": {
          "key": "4c4219b8e7"
        },
        "run_control": {
          "frozen": true
        },
        "tags": [
          "context"
        ],
        "id": "-nMjmZ-E1LUI",
        "colab_type": "text"
      },
      "source": [
        "## Jupyter notebooks ♡ plots\n",
        "<p>Tables are nice but — as the saying goes — <em>\"a plot can show a thousand data points\"</em>. Notebooks handle plots as well, but it requires a bit of magic. Here <em>magic</em> does not refer to any arcane rituals but to so-called \"magic commands\" that affect how the Jupyter notebook works. Magic commands start with either <code>%</code> or <code>%%</code> and the command we need to nicely display plots inline is <code>%matplotlib inline</code>. With this <em>magic</em> in place, all plots created in code cells will automatically be displayed inline. </p>\n",
        "<p>Let's take a look at the global temperature for the last 150 years.</p>"
      ]
    },
    {
      "cell_type": "code",
      "metadata": {
        "trusted": true,
        "dc": {
          "key": "4c4219b8e7"
        },
        "tags": [
          "sample_code"
        ],
        "id": "N9wMNpIa1LUI",
        "colab_type": "code",
        "colab": {},
        "outputId": "b62f54b3-8802-4214-c04d-fb7f825a8c23"
      },
      "source": [
        "# Setting up inline plotting using jupyter notebook \"magic\"\n",
        "%matplotlib inline\n",
        "\n",
        "import matplotlib.pyplot as plt\n",
        "\n",
        "# Plotting global temperature in degrees celsius by year\n",
        "plt.plot(global_temp['year'], global_temp['degrees_celsius'])\n",
        "\n",
        "# Adding some nice labels \n",
        "plt.xlabel('Year') \n",
        "plt.ylabel('Temperature(C)') "
      ],
      "execution_count": 0,
      "outputs": [
        {
          "output_type": "execute_result",
          "data": {
            "text/plain": [
              "<matplotlib.text.Text at 0x7fbf0bb18ef0>"
            ]
          },
          "metadata": {
            "tags": []
          },
          "execution_count": 5
        },
        {
          "output_type": "display_data",
          "data": {
            "image/png": "[encoded data removed]",
            "text/plain": [
              "<matplotlib.figure.Figure at 0x7fbf13258b70>"
            ]
          },
          "metadata": {
            "tags": []
          }
        }
      ]
    },
    {
      "cell_type": "markdown",
      "metadata": {
        "editable": false,
        "deletable": false,
        "dc": {
          "key": "1df3b07b44"
        },
        "run_control": {
          "frozen": true
        },
        "tags": [
          "context"
        ],
        "id": "vMnf377N1LUL",
        "colab_type": "text"
      },
      "source": [
        "## Jupyter notebooks ♡ a lot more\n",
        "<p>Tables and plots are the most common outputs when doing data analysis, but Jupyter notebooks can render many more types of outputs such as sound, animation, video, etc. Yes, almost anything that can be shown in a modern web browser. This also makes it possible to include <em>interactive widgets</em> directly in the notebook!</p>\n",
        "<p>For example, this (slightly complicated) code will create an interactive map showing the locations of the three largest smartphone companies in 2016. You can move and zoom the map, and you can click the markers for more info! </p>"
      ]
    },
    {
      "cell_type": "code",
      "metadata": {
        "trusted": true,
        "dc": {
          "key": "1df3b07b44"
        },
        "tags": [
          "sample_code"
        ],
        "id": "4bK8p4wZ1LUM",
        "colab_type": "code",
        "colab": {},
        "outputId": "7cc2487a-4319-4037-dae6-51563d312ea3"
      },
      "source": [
        "# Making a map using the folium module\n",
        "import folium\n",
        "phone_map = folium.Map()\n",
        "\n",
        "# Top three smart phone companies by market share in 2016\n",
        "companies = [\n",
        "    {'loc': [37.4970,  127.0266], 'label': 'Samsung: 20.5%'},\n",
        "    {'loc': [37.3318, -122.0311], 'label': 'Apple: 14.4%'},\n",
        "    {'loc': [22.5431,  114.0579], 'label': 'Huawei: 8.9%'}] \n",
        "\n",
        "# Adding markers to the map\n",
        "for company in companies:\n",
        "    marker = folium.Marker(location=company['loc'], popup=company['label'])\n",
        "    marker.add_to(phone_map)\n",
        "\n",
        "# The last object in the cell always gets shown in the notebook\n",
        "phone_map"
      ],
      "execution_count": 0,
      "outputs": [
        {
          "output_type": "execute_result",
          "data": {
            "text/html": [
              "<div style=\"width:100%;\"><div style=\"position:relative;width:100%;height:0;padding-bottom:60%;\"><iframe src=\"data:text/html;charset=utf-8;base64,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\" style=\"position:absolute;width:100%;height:100%;left:0;top:0;border:none !important;\" allowfullscreen webkitallowfullscreen mozallowfullscreen></iframe></div></div>"
            ],
            "text/plain": [
              "<folium.folium.Map at 0x7fbf093569b0>"
            ]
          },
          "metadata": {
            "tags": []
          },
          "execution_count": 8
        }
      ]
    }
  ]
}
